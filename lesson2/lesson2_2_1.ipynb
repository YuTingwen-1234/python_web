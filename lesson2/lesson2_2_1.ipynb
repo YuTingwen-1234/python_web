{
 "cells": [
  {
   "cell_type": "markdown",
   "metadata": {},
   "source": [
    "# *args、**kwargs\n",
    "\n",
    "args->沒限制數量的引數**值**呼叫\n",
    "\n",
    "kwargs->沒限制數量的引數**名稱**呼叫"
   ]
  },
  {
   "cell_type": "code",
   "execution_count": null,
   "metadata": {},
   "outputs": [
    {
     "name": "stdout",
     "output_type": "stream",
     "text": [
      "args是tuple: ('s', 'r', 'h', False, (1, 2, 4, 5))\n"
     ]
    }
   ],
   "source": [
    "#自訂function\n",
    "def print_args(*args):\n",
    "    print(\"args是tuple:\", args)\n",
    "\n",
    "#沒限制數量的引數**值**呼叫\n",
    "print_args('s','r','h',False,(1,2,4,5))"
   ]
  },
  {
   "cell_type": "code",
   "execution_count": null,
   "metadata": {},
   "outputs": [
    {
     "name": "stdout",
     "output_type": "stream",
     "text": [
      "kwargs是dict: {'a': 1, 'b': 2, 'c': 3, 'd': 4}\n"
     ]
    }
   ],
   "source": [
    "#自訂的function\n",
    "def print_kwargs(**kwargs):\n",
    "    print(\"kwargs是dict:\", kwargs)\n",
    "\n",
    "\n",
    "#沒限制數量的引數**名稱**呼叫\n",
    "print_kwargs(a=1, b=2, c=3, d=4)"
   ]
  },
  {
   "cell_type": "code",
   "execution_count": 5,
   "metadata": {},
   "outputs": [
    {
     "name": "stdout",
     "output_type": "stream",
     "text": [
      "args是tuple: (1, 2, 3, 4, 5, 6)\n",
      "kwargs是dict: {'a': 345, 'b': 532, 'c': 423, 'd': 634}\n"
     ]
    }
   ],
   "source": [
    "def print_all(*args, **kwargs):\n",
    "    print(\"args是tuple:\", args)\n",
    "    print(\"kwargs是dict:\", kwargs)\n",
    "\n",
    "print_all(1,2,3,4,5,6,a=345,b=532,c=423,d=634)"
   ]
  }
 ],
 "metadata": {
  "kernelspec": {
   "display_name": "flask",
   "language": "python",
   "name": "python3"
  },
  "language_info": {
   "codemirror_mode": {
    "name": "ipython",
    "version": 3
   },
   "file_extension": ".py",
   "mimetype": "text/x-python",
   "name": "python",
   "nbconvert_exporter": "python",
   "pygments_lexer": "ipython3",
   "version": "3.11.11"
  }
 },
 "nbformat": 4,
 "nbformat_minor": 2
}
