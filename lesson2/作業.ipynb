{
 "cells": [
  {
   "cell_type": "markdown",
   "metadata": {},
   "source": [
    "1. **請讀取names.txt**\n",
    "2. **將文字儲存於list內**\n",
    "3. **每次執行可以亂數取出3個姓名**"
   ]
  },
  {
   "cell_type": "code",
   "execution_count": 5,
   "metadata": {},
   "outputs": [
    {
     "name": "stdout",
     "output_type": "stream",
     "text": [
      "['郭致恬', '尚偉倫', '白美珍']\n"
     ]
    }
   ],
   "source": [
    "import random\n",
    "\n",
    "# 1. 讀取 names.txt，將每一行姓名存入 list\n",
    "with open('names.txt', 'r', encoding='utf-8') as file:\n",
    "    names = [line.strip() for line in file]  # 去除換行字元[5][8]\n",
    "\n",
    "# 2. 每次執行隨機取出3個姓名\n",
    "random_names = random.sample(names, 3)  # 不重複隨機取樣3個\n",
    "\n",
    "print(random_names)\n"
   ]
  },
  {
   "cell_type": "markdown",
   "metadata": {},
   "source": [
    "- 第4行:\n",
    "    \n",
    "    `with open('檔案名稱', '開啟模式', encoding='編碼') as 變數名稱:`\n",
    "\n",
    "    讀取檔案，確保檔案正確關閉\n",
    "\n",
    "    自動關閉檔案：with 會自動幫你關閉檔案，不必手動寫 close()\n",
    "\n",
    "    - '檔案名稱'：要讀取或寫入的檔案名稱 (e.g. 'names.txt')\n",
    "    - '開啟模式'：常見有 'r'（讀取）、'w'（寫入）、'a'（附加）\n",
    "    - encoding：通常讀取中文檔案時建議加上 encoding='utf-8'\n",
    "    - as 變數名稱：變數=操作檔案的對象"
   ]
  }
 ],
 "metadata": {
  "kernelspec": {
   "display_name": ".venv",
   "language": "python",
   "name": "python3"
  },
  "language_info": {
   "codemirror_mode": {
    "name": "ipython",
    "version": 3
   },
   "file_extension": ".py",
   "mimetype": "text/x-python",
   "name": "python",
   "nbconvert_exporter": "python",
   "pygments_lexer": "ipython3",
   "version": "3.13.2"
  }
 },
 "nbformat": 4,
 "nbformat_minor": 2
}
