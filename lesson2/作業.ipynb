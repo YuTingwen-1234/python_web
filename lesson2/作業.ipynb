{
 "cells": [
  {
   "cell_type": "markdown",
   "metadata": {},
   "source": [
    "1. **請讀取names.txt**\n",
    "2. **將文字儲存於list內**\n",
    "3. **每次執行可以亂數取出3個姓名**"
   ]
  },
  {
   "cell_type": "code",
   "execution_count": null,
   "metadata": {},
   "outputs": [],
   "source": [
    "import random\n",
    "\n",
    "# 1. 讀取 names.txt，將每一行姓名存入 list\n",
    "with open('names.txt', 'r', encoding='utf-8') as file:\n",
    "    names = [line.strip() for line in file]  # 去除換行字元[5][8]\n",
    "\n",
    "# 2. 每次執行隨機取出3個姓名\n",
    "random_names = random.sample(names, 3)  # 不重複隨機取樣3個\n",
    "\n",
    "print(random_names)\n"
   ]
  }
 ],
 "metadata": {
  "kernelspec": {
   "display_name": ".venv",
   "language": "python",
   "name": "python3"
  },
  "language_info": {
   "name": "python",
   "version": "3.13.2"
  }
 },
 "nbformat": 4,
 "nbformat_minor": 2
}
