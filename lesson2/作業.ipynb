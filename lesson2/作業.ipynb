{
 "cells": [
  {
   "cell_type": "markdown",
   "metadata": {},
   "source": [
    "1. **請讀取names.txt**\n",
    "2. **將文字儲存於list內**\n",
    "3. **每次執行可以亂數取出3個姓名**"
   ]
  },
  {
   "cell_type": "code",
   "execution_count": null,
   "metadata": {},
   "outputs": [],
   "source": [
    "import random\n",
    "with open('names.txt', 'r', encoding='utf-8') as file:\n",
    "    names = [line.strip() for line in file]  # 去除換行字元\n",
    "random_names = random.sample(names, 3)  # 不重複隨機取樣3個\n",
    "\n",
    "print(random_names)\n"
   ]
  },
  {
   "cell_type": "markdown",
   "metadata": {},
   "source": [
    "#### - 第2~3行\n",
    "\n",
    "讀取 `names.txt`，將每一行姓名存入 list"
   ]
  },
  {
   "cell_type": "markdown",
   "metadata": {},
   "source": [
    "#### - 第2行:\n",
    "    \n",
    "`with open('檔案名稱', '開啟模式', encoding='編碼') as 變數名稱:`\n",
    "\n",
    "讀取檔案，確保檔案正確關閉\n",
    "\n",
    "自動關閉檔案：with 會自動幫你關閉檔案，不必手動寫 close()，避免忘記關閉而導致資源浪費或錯誤。\n",
    "\n",
    "- '檔案名稱'：要讀取或寫入的檔案名稱 (e.g. 'names.txt')\n",
    "- '開啟模式'：常見有 'r'（讀取）、'w'（寫入）、'a'（附加）\n",
    "    \n",
    "|模式字元|說明|\n",
    "|---|---|\n",
    "|'r'|只讀模式（預設）。打開檔案供讀取，檔案必須存在，否則會報錯。|\n",
    "|'w'|寫入模式。開啟檔案供寫入，若檔案存在會清空原內容，檔案不存在則建立新檔案。|\n",
    "|'a'|追加模式。打開檔案供寫入，寫入內容會加在檔案末尾，檔案不存在則建立新檔案。|\n",
    "|'x'|獨佔建立模式。建立新檔案，若檔案已存在則報錯。|\n",
    "|'b'|二進位模式。用於讀寫二進位檔案（如圖片、音訊），可與其他模式組合使用，如'rb'。|\n",
    "|'t'|文字模式（預設）。用於讀寫文字檔案，可與其他模式組合使用，如'rt'。|\n",
    "|'+'|\t讀寫模式。可與'r'、'w'、'a'組合使用，表示同時可讀寫檔案，例如'r+'。|\n",
    "\n",
    "    \n",
    "- encoding：通常讀取中文檔案時建議加上 encoding='utf-8'\n",
    "- as 變數名稱：變數=操作檔案的對象"
   ]
  },
  {
   "cell_type": "markdown",
   "metadata": {},
   "source": [
    "#### - 第3行:\n",
    "\n",
    "`names = [line.strip() for line in file]`\n",
    "\n",
    "- 用「串列生成式」(list comprehension) 逐行讀取檔案內容。\n",
    "\n",
    "- line.strip()：去除每行字符串開頭和結尾的空白字符與換行符號。\n",
    "\n",
    "- 最終得到一個只包含姓名的list，例如：['小明', '小華', '小美', ...]"
   ]
  },
  {
   "cell_type": "markdown",
   "metadata": {},
   "source": [
    "#### - 第4行:\n",
    "\n",
    "每次執行隨機取出3個姓名"
   ]
  }
 ],
 "metadata": {
  "kernelspec": {
   "display_name": ".venv",
   "language": "python",
   "name": "python3"
  },
  "language_info": {
   "codemirror_mode": {
    "name": "ipython",
    "version": 3
   },
   "file_extension": ".py",
   "mimetype": "text/x-python",
   "name": "python",
   "nbconvert_exporter": "python",
   "pygments_lexer": "ipython3",
   "version": "3.13.1"
  }
 },
 "nbformat": 4,
 "nbformat_minor": 2
}
