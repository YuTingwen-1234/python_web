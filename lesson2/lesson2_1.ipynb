{
 "cells": [
  {
   "cell_type": "markdown",
   "id": "cf7157b4",
   "metadata": {},
   "source": [
    "### 呼叫function"
   ]
  },
  {
   "cell_type": "code",
   "execution_count": null,
   "id": "0a38b93d",
   "metadata": {},
   "outputs": [],
   "source": [
    "def menu(wine:str, entree:str, dessert:str)->dict:\n",
    "    return {\"wine\":wine,\n",
    "            \"entree\":entree, \n",
    "            \"desert\":dessert}\n",
    "\n",
    "# ':' 資料格式提示\n"
   ]
  },
  {
   "cell_type": "markdown",
   "id": "253f14ea",
   "metadata": {},
   "source": [
    "#### 引數值呼叫"
   ]
  },
  {
   "cell_type": "code",
   "execution_count": null,
   "id": "a1a6141d",
   "metadata": {},
   "outputs": [
    {
     "name": "stdout",
     "output_type": "stream",
     "text": [
      "wine 白酒 entree 牛排 desert 蛋糕\n"
     ]
    },
    {
     "ename": "TypeError",
     "evalue": "menu() missing 1 required positional argument: 'dessert'",
     "output_type": "error",
     "traceback": [
      "\u001b[0;31m---------------------------------------------------------------------------\u001b[0m",
      "\u001b[0;31mTypeError\u001b[0m                                 Traceback (most recent call last)",
      "Cell \u001b[0;32mIn[6], line 3\u001b[0m\n\u001b[1;32m      1\u001b[0m \u001b[38;5;66;03m#引數值的呼叫(依照順序)\u001b[39;00m\n\u001b[1;32m      2\u001b[0m menu(\u001b[38;5;124m'\u001b[39m\u001b[38;5;124m白酒\u001b[39m\u001b[38;5;124m'\u001b[39m, \u001b[38;5;124m'\u001b[39m\u001b[38;5;124m牛排\u001b[39m\u001b[38;5;124m'\u001b[39m, \u001b[38;5;124m'\u001b[39m\u001b[38;5;124m蛋糕\u001b[39m\u001b[38;5;124m'\u001b[39m)\n\u001b[0;32m----> 3\u001b[0m \u001b[43mmenu\u001b[49m\u001b[43m(\u001b[49m\u001b[38;5;124;43m'\u001b[39;49m\u001b[38;5;124;43m白酒\u001b[39;49m\u001b[38;5;124;43m'\u001b[39;49m\u001b[43m,\u001b[49m\u001b[43m \u001b[49m\u001b[38;5;124;43m'\u001b[39;49m\u001b[38;5;124;43m牛排\u001b[39;49m\u001b[38;5;124;43m'\u001b[39;49m\u001b[43m)\u001b[49m\n",
      "\u001b[0;31mTypeError\u001b[0m: menu() missing 1 required positional argument: 'dessert'"
     ]
    }
   ],
   "source": [
    "#引數值的呼叫(依照參數順序)\n",
    "menu('白酒', '牛排', '蛋糕')\n",
    "#menu('白酒', '牛排') 錯誤"
   ]
  },
  {
   "cell_type": "code",
   "execution_count": null,
   "id": "d227474f",
   "metadata": {},
   "outputs": [],
   "source": [
    "pk:dict = menu(\"白酒\",\"牛排\",\"蛋糕\")\n",
    "pk"
   ]
  },
  {
   "cell_type": "code",
   "execution_count": null,
   "id": "d329ea53",
   "metadata": {},
   "outputs": [
    {
     "data": {
      "text/plain": [
       "{'wine': '紅酒', 'entree': '牛排', 'desert': '布蕾'}"
      ]
     },
     "execution_count": 6,
     "metadata": {},
     "output_type": "execute_result"
    }
   ],
   "source": [
    "#引數名稱的引數名稱的呼叫\n",
    "pk = menu(wine=\"紅酒\", dessert=\"布蕾\", entree=\"牛排\") #可不依順序，較易讀懂\n",
    "pk"
   ]
  },
  {
   "cell_type": "code",
   "execution_count": 16,
   "id": "c7e8ca5e",
   "metadata": {},
   "outputs": [
    {
     "data": {
      "text/plain": [
       "{'wine': '紅酒', 'entree': '牛排', 'desert': '布蕾'}"
      ]
     },
     "execution_count": 16,
     "metadata": {},
     "output_type": "execute_result"
    }
   ],
   "source": [
    "#混合呼叫\n",
    "#前可用引數值呼叫(要依照順序)\n",
    "#後一旦用了引數名稱呼叫後面全都用引數名稱呼叫\n",
    "\n",
    "pk = menu(\"紅酒\", dessert=\"布蕾\", entree=\"牛排\")\n",
    "pk\n",
    "#pk = menu(\"紅酒\", dessert=\"布蕾\",\"牛排\") #錯誤"
   ]
  },
  {
   "cell_type": "code",
   "execution_count": 17,
   "id": "81592814",
   "metadata": {},
   "outputs": [],
   "source": [
    "#參數有defult value\n",
    "def menu(wine:str, entree:str, dessert:str='提拉米蘇')->dict:  #dessert設定預設值\n",
    "    return {\"wine\":wine,\n",
    "            \"entree\":entree, \n",
    "            \"desert\":dessert}\n",
    "\n"
   ]
  },
  {
   "cell_type": "code",
   "execution_count": 18,
   "id": "c7c842ca",
   "metadata": {},
   "outputs": [
    {
     "data": {
      "text/plain": [
       "{'wine': '白酒', 'entree': '牛排', 'desert': '提拉米蘇'}"
      ]
     },
     "execution_count": 18,
     "metadata": {},
     "output_type": "execute_result"
    }
   ],
   "source": [
    "#呼叫時有default value的參數可以省略\n",
    "#引數值叫呼\n",
    "pk:dict = menu(\"白酒\",\"牛排\")\n",
    "pk\n"
   ]
  },
  {
   "cell_type": "code",
   "execution_count": 19,
   "id": "aa78bcea",
   "metadata": {},
   "outputs": [
    {
     "data": {
      "text/plain": [
       "{'wine': '白酒', 'entree': '牛排', 'desert': '提拉米蘇'}"
      ]
     },
     "execution_count": 19,
     "metadata": {},
     "output_type": "execute_result"
    }
   ],
   "source": [
    "pk:dict = menu(\"白酒\",entree=\"牛排\")\n",
    "pk"
   ]
  },
  {
   "cell_type": "code",
   "execution_count": 20,
   "id": "30f0bfe6",
   "metadata": {},
   "outputs": [
    {
     "data": {
      "text/plain": [
       "{'wine': '白酒', 'entree': '牛排', 'desert': '奶昔'}"
      ]
     },
     "execution_count": 20,
     "metadata": {},
     "output_type": "execute_result"
    }
   ],
   "source": [
    "pk:dict = menu(\"白酒\",entree=\"牛排\",dessert=\"奶昔\")\n",
    "pk\n"
   ]
  },
  {
   "cell_type": "code",
   "execution_count": 21,
   "id": "c474bcd5",
   "metadata": {},
   "outputs": [
    {
     "name": "stdout",
     "output_type": "stream",
     "text": [
      "1-2-3-4-5-a-b-c.....\n"
     ]
    }
   ],
   "source": [
    "#python內建規則defult放在後面(引數名稱放後的概念)\n",
    "#以print舉例\n",
    "\n",
    "print(1,2,3,4,5,'a','b','c',end='.....\\n',sep='-')\n",
    "#       ^引數值呼叫             ^引數名稱呼叫"
   ]
  }
 ],
 "metadata": {
  "kernelspec": {
   "display_name": "flask",
   "language": "python",
   "name": "python3"
  },
  "language_info": {
   "codemirror_mode": {
    "name": "ipython",
    "version": 3
   },
   "file_extension": ".py",
   "mimetype": "text/x-python",
   "name": "python",
   "nbconvert_exporter": "python",
   "pygments_lexer": "ipython3",
   "version": "3.11.11"
  }
 },
 "nbformat": 4,
 "nbformat_minor": 5
}
