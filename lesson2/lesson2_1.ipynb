{
 "cells": [
  {
   "cell_type": "markdown",
   "id": "cf7157b4",
   "metadata": {},
   "source": [
    "### 呼叫function"
   ]
  },
  {
   "cell_type": "code",
   "execution_count": null,
   "id": "0a38b93d",
   "metadata": {},
   "outputs": [],
   "source": [
    "def menu(wine:str, entree:str, dessert:str)->dict:\n",
    "    return {\"wine\":wine,\n",
    "            \"entree\":entree, \n",
    "            \"desert\":dessert}\n",
    "\n",
    "# :資料格式提示\n"
   ]
  },
  {
   "cell_type": "markdown",
   "id": "253f14ea",
   "metadata": {},
   "source": [
    "#### 引數值呼叫"
   ]
  },
  {
   "cell_type": "code",
   "execution_count": null,
   "id": "a1a6141d",
   "metadata": {},
   "outputs": [
    {
     "name": "stdout",
     "output_type": "stream",
     "text": [
      "wine 白酒 entree 牛排 desert 蛋糕\n"
     ]
    },
    {
     "ename": "TypeError",
     "evalue": "menu() missing 1 required positional argument: 'dessert'",
     "output_type": "error",
     "traceback": [
      "\u001b[0;31m---------------------------------------------------------------------------\u001b[0m",
      "\u001b[0;31mTypeError\u001b[0m                                 Traceback (most recent call last)",
      "Cell \u001b[0;32mIn[6], line 3\u001b[0m\n\u001b[1;32m      1\u001b[0m \u001b[38;5;66;03m#引數值的呼叫(依照順序)\u001b[39;00m\n\u001b[1;32m      2\u001b[0m menu(\u001b[38;5;124m'\u001b[39m\u001b[38;5;124m白酒\u001b[39m\u001b[38;5;124m'\u001b[39m, \u001b[38;5;124m'\u001b[39m\u001b[38;5;124m牛排\u001b[39m\u001b[38;5;124m'\u001b[39m, \u001b[38;5;124m'\u001b[39m\u001b[38;5;124m蛋糕\u001b[39m\u001b[38;5;124m'\u001b[39m)\n\u001b[0;32m----> 3\u001b[0m \u001b[43mmenu\u001b[49m\u001b[43m(\u001b[49m\u001b[38;5;124;43m'\u001b[39;49m\u001b[38;5;124;43m白酒\u001b[39;49m\u001b[38;5;124;43m'\u001b[39;49m\u001b[43m,\u001b[49m\u001b[43m \u001b[49m\u001b[38;5;124;43m'\u001b[39;49m\u001b[38;5;124;43m牛排\u001b[39;49m\u001b[38;5;124;43m'\u001b[39;49m\u001b[43m)\u001b[49m\n",
      "\u001b[0;31mTypeError\u001b[0m: menu() missing 1 required positional argument: 'dessert'"
     ]
    }
   ],
   "source": [
    "#引數值的呼叫(依照參數順序)\n",
    "menu('白酒', '牛排', '蛋糕')\n",
    "#menu('白酒', '牛排') 錯誤"
   ]
  },
  {
   "cell_type": "code",
   "execution_count": null,
   "id": "d227474f",
   "metadata": {},
   "outputs": [],
   "source": [
    "pk:dict = menu(\"白酒\",\"牛排\",\"蛋糕\")\n",
    "pk"
   ]
  },
  {
   "cell_type": "code",
   "execution_count": null,
   "id": "d329ea53",
   "metadata": {},
   "outputs": [
    {
     "data": {
      "text/plain": [
       "{'wine': '紅酒', 'entree': '牛排', 'desert': '布蕾'}"
      ]
     },
     "execution_count": 6,
     "metadata": {},
     "output_type": "execute_result"
    }
   ],
   "source": [
    "#引數名稱的引數名稱的呼叫\n",
    "pk = menu(wine=\"紅酒\", dessert=\"布蕾\", entree=\"牛排\") #可不依順序，較易讀懂\n",
    "pk"
   ]
  }
 ],
 "metadata": {
  "kernelspec": {
   "display_name": ".venv",
   "language": "python",
   "name": "python3"
  },
  "language_info": {
   "codemirror_mode": {
    "name": "ipython",
    "version": 3
   },
   "file_extension": ".py",
   "mimetype": "text/x-python",
   "name": "python",
   "nbconvert_exporter": "python",
   "pygments_lexer": "ipython3",
   "version": "3.10.8"
  }
 },
 "nbformat": 4,
 "nbformat_minor": 5
}
