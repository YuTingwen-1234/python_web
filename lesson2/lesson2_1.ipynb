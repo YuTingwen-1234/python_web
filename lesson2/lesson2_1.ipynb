{
 "cells": [
  {
   "cell_type": "markdown",
   "id": "cf7157b4",
   "metadata": {},
   "source": [
    "### 呼叫function"
   ]
  },
  {
   "cell_type": "code",
   "execution_count": 1,
   "id": "0a38b93d",
   "metadata": {},
   "outputs": [],
   "source": [
    "def menu(wine, entree, dessert):\n",
    "    print(\"wine\",wine,\"entree\",entree, \"desert\", dessert)"
   ]
  },
  {
   "cell_type": "code",
   "execution_count": 2,
   "id": "9d02d8da",
   "metadata": {},
   "outputs": [
    {
     "name": "stdout",
     "output_type": "stream",
     "text": [
      "wine 紅酒 entree 牛排 desert 布蕾\n"
     ]
    }
   ],
   "source": [
    "#引數值呼叫\n",
    "menu(\"紅酒\", \"牛排\", \"布蕾\")\n",
    "#menu(\"紅酒\", \"牛排\")----錯誤(引數要3個)"
   ]
  }
 ],
 "metadata": {
  "kernelspec": {
   "display_name": ".venv",
   "language": "python",
   "name": "python3"
  },
  "language_info": {
   "codemirror_mode": {
    "name": "ipython",
    "version": 3
   },
   "file_extension": ".py",
   "mimetype": "text/x-python",
   "name": "python",
   "nbconvert_exporter": "python",
   "pygments_lexer": "ipython3",
   "version": "3.13.2"
  }
 },
 "nbformat": 4,
 "nbformat_minor": 5
}
