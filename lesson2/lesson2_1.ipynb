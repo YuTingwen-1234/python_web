{
 "cells": [
  {
   "cell_type": "markdown",
   "id": "cf7157b4",
   "metadata": {},
   "source": [
    "### 呼叫function"
   ]
  },
  {
   "cell_type": "code",
   "execution_count": 1,
   "id": "0a38b93d",
   "metadata": {},
   "outputs": [],
   "source": [
    "def menu(wine, entree, dessert):\n",
    "    print(\"wine\",wine,\"entree\",entree, \"desert\", dessert)"
   ]
  }
 ],
 "metadata": {
  "kernelspec": {
   "display_name": ".venv",
   "language": "python",
   "name": "python3"
  },
  "language_info": {
   "codemirror_mode": {
    "name": "ipython",
    "version": 3
   },
   "file_extension": ".py",
   "mimetype": "text/x-python",
   "name": "python",
   "nbconvert_exporter": "python",
   "pygments_lexer": "ipython3",
   "version": "3.13.2"
  }
 },
 "nbformat": 4,
 "nbformat_minor": 5
}
