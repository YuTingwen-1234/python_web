{
 "cells": [
  {
   "cell_type": "code",
   "execution_count": 3,
   "metadata": {},
   "outputs": [
    {
     "data": {
      "text/plain": [
       "[{'name': 'robert', 'chinese': 50, 'english': 54, 'math': 97},\n",
       " {'name': 'james', 'chinese': 60, 'english': 70, 'math': 80}]"
      ]
     },
     "execution_count": 3,
     "metadata": {},
     "output_type": "execute_result"
    }
   ],
   "source": [
    "students:list = []\n",
    "students.append({\"name\":\"robert\", \n",
    "                 \"chinese\":50, \n",
    "                 \"english\":54, \n",
    "                 \"math\":97})\n",
    "students.append({\"name\":\"james\",\n",
    "                 \"chinese\":60, \n",
    "                 \"english\":70, \n",
    "                 \"math\":80})    \n",
    "\n",
    "students\n"
   ]
  },
  {
   "cell_type": "code",
   "execution_count": 6,
   "metadata": {},
   "outputs": [
    {
     "name": "stdout",
     "output_type": "stream",
     "text": [
      "name:robert\n",
      "chinese:50\n",
      "english:54\n",
      "math:97\n",
      "====================\n",
      "name:james\n",
      "chinese:60\n",
      "english:70\n",
      "math:80\n",
      "====================\n"
     ]
    }
   ],
   "source": [
    "for student in students:\n",
    "    for(key, value) in student.items():\n",
    "        print(key, value, sep=\":\")\n",
    "    print(\"=\"*20)\n"
   ]
  }
 ],
 "metadata": {
  "kernelspec": {
   "display_name": ".venv",
   "language": "python",
   "name": "python3"
  },
  "language_info": {
   "codemirror_mode": {
    "name": "ipython",
    "version": 3
   },
   "file_extension": ".py",
   "mimetype": "text/x-python",
   "name": "python",
   "nbconvert_exporter": "python",
   "pygments_lexer": "ipython3",
   "version": "3.13.2"
  }
 },
 "nbformat": 4,
 "nbformat_minor": 2
}
